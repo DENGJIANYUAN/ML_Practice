{
 "cells": [
  {
   "cell_type": "markdown",
   "metadata": {},
   "source": [
    "This notebook uses RF to do image classification."
   ]
  },
  {
   "cell_type": "markdown",
   "metadata": {},
   "source": [
    "# 1. Load data"
   ]
  },
  {
   "cell_type": "code",
   "execution_count": 1,
   "metadata": {},
   "outputs": [],
   "source": [
    "import numpy as np\n",
    "import torchvision\n",
    "import matplotlib.pyplot as plt"
   ]
  },
  {
   "cell_type": "code",
   "execution_count": 2,
   "metadata": {},
   "outputs": [
    {
     "name": "stdout",
     "output_type": "stream",
     "text": [
      "Files already downloaded and verified\n",
      "Files already downloaded and verified\n"
     ]
    }
   ],
   "source": [
    "trainset = torchvision.datasets.CIFAR10(root='./data', train=True,\n",
    "                                        download=True)\n",
    "\n",
    "testset = torchvision.datasets.CIFAR10(root='./data', train=False,\n",
    "                                       download=True)\n",
    "\n",
    "classes = ('plane', 'car', 'bird', 'cat',\n",
    "           'deer', 'dog', 'frog', 'horse', 'ship', 'truck')"
   ]
  },
  {
   "cell_type": "code",
   "execution_count": 3,
   "metadata": {},
   "outputs": [],
   "source": [
    "# functions to show an image\n",
    "def imshow(img):\n",
    "    npimg = np.array(img)\n",
    "    plt.imshow(npimg)"
   ]
  },
  {
   "cell_type": "code",
   "execution_count": 4,
   "metadata": {},
   "outputs": [
    {
     "data": {
      "image/png": "[encoded data removed]",
      "text/plain": [
       "<Figure size 432x288 with 1 Axes>"
      ]
     },
     "metadata": {
      "needs_background": "light"
     },
     "output_type": "display_data"
    }
   ],
   "source": [
    "imshow(trainset[0][0])"
   ]
  },
  {
   "cell_type": "markdown",
   "metadata": {},
   "source": [
    "# 2. Preprocess images: grayscale conversion + feature extraction"
   ]
  },
  {
   "cell_type": "code",
   "execution_count": 5,
   "metadata": {},
   "outputs": [],
   "source": [
    "import cv2\n",
    "from cyvlfeat.sift.dsift import dsift"
   ]
  },
  {
   "cell_type": "code",
   "execution_count": 6,
   "metadata": {},
   "outputs": [],
   "source": [
    "# preprocess images from training set\n",
    "trftr = np.zeros((len(trainset), 128))\n",
    "trlb = np.zeros((len(trainset),1), dtype=np.int)\n",
    "for i in range(len(trainset)):\n",
    "    npimg = np.array(trainset[i][0])\n",
    "    gray= cv2.cvtColor(npimg,cv2.COLOR_BGR2GRAY)\n",
    "    _, dec = dsift(gray, size=8, step=8)\n",
    "    trftr[i] = dec\n",
    "    trlb[i, 0] = trainset[i][1]"
   ]
  },
  {
   "cell_type": "code",
   "execution_count": 7,
   "metadata": {},
   "outputs": [],
   "source": [
    "np.save('./RF/trftr.npy', trftr)\n",
    "np.save('./RF/trlb.npy', trlb)"
   ]
  },
  {
   "cell_type": "code",
   "execution_count": 8,
   "metadata": {},
   "outputs": [],
   "source": [
    "# preprocess images from testing set\n",
    "tsftr = np.zeros((len(testset), 128))\n",
    "tslb = np.zeros((len(testset),1), dtype=np.int)\n",
    "for i in range(len(testset)):\n",
    "    npimg = np.array(testset[i][0])\n",
    "    gray= cv2.cvtColor(npimg,cv2.COLOR_BGR2GRAY)\n",
    "    _, dec = dsift(gray, size=8, step=8)\n",
    "    tsftr[i] = dec\n",
    "    tslb[i, 0] = testset[i][1]"
   ]
  },
  {
   "cell_type": "code",
   "execution_count": 9,
   "metadata": {},
   "outputs": [],
   "source": [
    "np.save('./RF/tsftr.npy', tsftr)\n",
    "np.save('./RF/tslb.npy', tslb)"
   ]
  },
  {
   "cell_type": "markdown",
   "metadata": {},
   "source": [
    "# 3. Preprocess images: normalization + PCA\n",
    "# 4. Classify images with RF "
   ]
  },
  {
   "cell_type": "code",
   "execution_count": 13,
   "metadata": {},
   "outputs": [],
   "source": [
    "from sklearn.preprocessing import StandardScaler\n",
    "from sklearn.decomposition import PCA\n",
    "from sklearn.ensemble import RandomForestClassifier\n",
    "import pickle\n",
    "from sklearn.metrics import accuracy_score\n",
    "from sklearn.metrics import confusion_matrix"
   ]
  },
  {
   "cell_type": "code",
   "execution_count": 17,
   "metadata": {},
   "outputs": [
    {
     "name": "stdout",
     "output_type": "stream",
     "text": [
      "numPCA: 2\n",
      "numTrees:  1\n",
      "numPCA: 2\n",
      "numTrees:  10\n",
      "numPCA: 2\n",
      "numTrees:  100\n",
      "numPCA: 2\n",
      "numTrees:  1000\n",
      "numPCA: 4\n",
      "numTrees:  1\n",
      "numPCA: 4\n",
      "numTrees:  10\n",
      "numPCA: 4\n",
      "numTrees:  100\n",
      "numPCA: 4\n",
      "numTrees:  1000\n",
      "numPCA: 8\n",
      "numTrees:  1\n",
      "numPCA: 8\n",
      "numTrees:  10\n",
      "numPCA: 8\n",
      "numTrees:  100\n",
      "numPCA: 8\n",
      "numTrees:  1000\n",
      "numPCA: 16\n",
      "numTrees:  1\n",
      "numPCA: 16\n",
      "numTrees:  10\n",
      "numPCA: 16\n",
      "numTrees:  100\n",
      "numPCA: 16\n",
      "numTrees:  1000\n",
      "numPCA: 32\n",
      "numTrees:  1\n",
      "numPCA: 32\n",
      "numTrees:  10\n",
      "numPCA: 32\n",
      "numTrees:  100\n",
      "numPCA: 32\n",
      "numTrees:  1000\n",
      "numPCA: 64\n",
      "numTrees:  1\n",
      "numPCA: 64\n",
      "numTrees:  10\n",
      "numPCA: 64\n",
      "numTrees:  100\n",
      "numPCA: 64\n",
      "numTrees:  1000\n",
      "numPCA: 128\n",
      "numTrees:  1\n",
      "numPCA: 128\n",
      "numTrees:  10\n",
      "numPCA: 128\n",
      "numTrees:  100\n",
      "numPCA: 128\n",
      "numTrees:  1000\n"
     ]
    }
   ],
   "source": [
    "accuracyList = []\n",
    "class_accuracyList = []\n",
    "NUMPCA = [2, 4, 8, 16, 32, 64, 128]\n",
    "NUMTREES = [1, 10, 100, 1000]\n",
    "\n",
    "\n",
    "for i in range(len(NUMPCA)):\n",
    "    for j in range(len(NUMTREES)):\n",
    "        numPCA = NUMPCA[i]\n",
    "        numTrees = NUMTREES[j]\n",
    "        print('numPCA:', numPCA)\n",
    "        print('numTrees: ', numTrees)\n",
    "\n",
    "        # load training and test dataset\n",
    "        trftr = np.load('./RF/trftr.npy')\n",
    "        trlb = np.load('./RF/trlb.npy')\n",
    "        tsftr = np.load('./RF/tsftr.npy')\n",
    "        tslb = np.load('./RF/tslb.npy')\n",
    "\n",
    "        # standardizing the features (mean = 0 and variance = 1)\n",
    "        strftr = StandardScaler().fit_transform(trftr)\n",
    "        stsftr = StandardScaler().fit_transform(tsftr)\n",
    "\n",
    "        # identify principal components\n",
    "        pca = PCA(n_components = numPCA)\n",
    "        trPCs = pca.fit_transform(strftr)\n",
    "        tsPCs = pca.fit_transform(stsftr)\n",
    "\n",
    "        # use RF to do image classification\n",
    "        rfclassifier = RandomForestClassifier(n_estimators=numTrees)\n",
    "        rfclassifier.fit(trPCs, trlb[:,0])\n",
    "        \n",
    "\n",
    "        # make predictions\n",
    "        lb_pred = rfclassifier.predict(tsPCs)\n",
    "\n",
    "        # generate confusion matrix\n",
    "        cm = confusion_matrix(tslb, lb_pred)\n",
    "        \n",
    "        # calculate accuracy\n",
    "        accuracy = 100 * accuracy_score(tslb, lb_pred)\n",
    "        accuracyList.append(accuracy)\n",
    "        class_accuracy = 100 * cm.diagonal() / 1000\n",
    "        class_accuracyList.append(class_accuracy)\n",
    "\n",
    "# # write output\n",
    "np.savetxt(\"./RF/accuracyList.csv\",accuracyList, delimiter=\",\", fmt='%s')\n",
    "np.savetxt(\"./RF/class_accuracyList.csv\",class_accuracyList, delimiter=\",\", fmt='%s')"
   ]
  },
  {
   "cell_type": "markdown",
   "metadata": {},
   "source": [
    "# 5. Pick a RF classifier and plot the confusion matrix"
   ]
  },
  {
   "cell_type": "code",
   "execution_count": 18,
   "metadata": {},
   "outputs": [],
   "source": [
    "import seaborn as sn"
   ]
  },
  {
   "cell_type": "code",
   "execution_count": 19,
   "metadata": {},
   "outputs": [],
   "source": [
    "NUMPCA = [16]\n",
    "NUMTREES = [1000]\n",
    "\n",
    "for i in range(len(NUMPCA)):\n",
    "    for j in range(len(NUMTREES)):\n",
    "        numPCA = NUMPCA[i]\n",
    "        numTrees = NUMTREES[j]   \n",
    "\n",
    "        # load training and test dataset\n",
    "        trftr = np.load('./RF/trftr.npy')\n",
    "        trlb = np.load('./RF/trlb.npy')\n",
    "        tsftr = np.load('./RF/tsftr.npy')\n",
    "        tslb = np.load('./RF/tslb.npy')\n",
    "\n",
    "        # standardizing the features (mean = 0 and variance = 1)\n",
    "        strftr = StandardScaler().fit_transform(trftr)\n",
    "        stsftr = StandardScaler().fit_transform(tsftr)\n",
    "\n",
    "        # identify principal components\n",
    "        pca = PCA(n_components = numPCA)\n",
    "        trPCs = pca.fit_transform(strftr)\n",
    "        tsPCs = pca.fit_transform(stsftr)\n",
    "\n",
    "        # use RF to do image classification\n",
    "        rfclassifier = RandomForestClassifier(n_estimators=numTrees)\n",
    "        rfclassifier.fit(trPCs, trlb[:,0])\n",
    "        \n",
    "\n",
    "        # make predictions\n",
    "        lb_pred = rfclassifier.predict(tsPCs)\n",
    "\n",
    "        # generate confusion matrix\n",
    "        cm = confusion_matrix(tslb, lb_pred)\n"
   ]
  },
  {
   "cell_type": "code",
   "execution_count": 20,
   "metadata": {},
   "outputs": [
    {
     "data": {
      "text/plain": [
       "<matplotlib.axes._subplots.AxesSubplot at 0x1c4af3cba8>"
      ]
     },
     "execution_count": 20,
     "metadata": {},
     "output_type": "execute_result"
    },
    {
     "data": {
      "image/png": "[encoded data removed]",
      "text/plain": [
       "<Figure size 720x720 with 2 Axes>"
      ]
     },
     "metadata": {
      "needs_background": "light"
     },
     "output_type": "display_data"
    }
   ],
   "source": [
    "plt.figure(figsize = (10,10))\n",
    "sn.set(font_scale=1)\n",
    "sn.heatmap(100*cm/1000, cmap=\"YlGnBu\", annot = True)"
   ]
  },
  {
   "cell_type": "code",
   "execution_count": null,
   "metadata": {},
   "outputs": [],
   "source": []
  }
 ],
 "metadata": {
  "kernelspec": {
   "display_name": "Python 3",
   "language": "python",
   "name": "python3"
  },
  "language_info": {
   "codemirror_mode": {
    "name": "ipython",
    "version": 3
   },
   "file_extension": ".py",
   "mimetype": "text/x-python",
   "name": "python",
   "nbconvert_exporter": "python",
   "pygments_lexer": "ipython3",
   "version": "3.7.6"
  }
 },
 "nbformat": 4,
 "nbformat_minor": 2
}
