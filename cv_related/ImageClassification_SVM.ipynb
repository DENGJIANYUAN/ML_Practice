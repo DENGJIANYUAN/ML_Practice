{
 "cells": [
  {
   "cell_type": "markdown",
   "metadata": {},
   "source": [
    "This notebook uses SVM to do image classification."
   ]
  },
  {
   "cell_type": "markdown",
   "metadata": {},
   "source": [
    "# 1. Load data"
   ]
  },
  {
   "cell_type": "code",
   "execution_count": 1,
   "metadata": {},
   "outputs": [],
   "source": [
    "import numpy as np\n",
    "import torchvision\n",
    "import matplotlib.pyplot as plt"
   ]
  },
  {
   "cell_type": "code",
   "execution_count": 2,
   "metadata": {},
   "outputs": [
    {
     "name": "stdout",
     "output_type": "stream",
     "text": [
      "Files already downloaded and verified\n",
      "Files already downloaded and verified\n"
     ]
    }
   ],
   "source": [
    "trainset = torchvision.datasets.CIFAR10(root='./data', train=True,\n",
    "                                        download=True)\n",
    "\n",
    "testset = torchvision.datasets.CIFAR10(root='./data', train=False,\n",
    "                                       download=True)\n",
    "\n",
    "classes = ('plane', 'car', 'bird', 'cat',\n",
    "           'deer', 'dog', 'frog', 'horse', 'ship', 'truck')"
   ]
  },
  {
   "cell_type": "code",
   "execution_count": 4,
   "metadata": {},
   "outputs": [],
   "source": [
    "# functions to show an image\n",
    "def imshow(img):\n",
    "    npimg = np.array(img)\n",
    "    plt.imshow(npimg)"
   ]
  },
  {
   "cell_type": "code",
   "execution_count": 5,
   "metadata": {},
   "outputs": [
    {
     "data": {
      "image/png": "[encoded data removed]",
      "text/plain": [
       "<Figure size 432x288 with 1 Axes>"
      ]
     },
     "metadata": {
      "needs_background": "light"
     },
     "output_type": "display_data"
    }
   ],
   "source": [
    "imshow(trainset[0][0])"
   ]
  },
  {
   "cell_type": "markdown",
   "metadata": {},
   "source": [
    "# 2. Preprocess images: grayscale conversion + feature extraction"
   ]
  },
  {
   "cell_type": "code",
   "execution_count": 6,
   "metadata": {},
   "outputs": [],
   "source": [
    "import cv2\n",
    "from cyvlfeat.sift.dsift import dsift"
   ]
  },
  {
   "cell_type": "code",
   "execution_count": 7,
   "metadata": {},
   "outputs": [],
   "source": [
    "# preprocess images from training set\n",
    "trftr = np.zeros((len(trainset), 128))\n",
    "trlb = np.zeros((len(trainset),1), dtype=np.int)\n",
    "for i in range(len(trainset)):\n",
    "    npimg = np.array(trainset[i][0])\n",
    "    gray = cv2.cvtColor(npimg,cv2.COLOR_BGR2GRAY)\n",
    "    _, dec = dsift(gray, size=8, step=8)\n",
    "    trftr[i] = dec\n",
    "    trlb[i, 0] = trainset[i][1]"
   ]
  },
  {
   "cell_type": "code",
   "execution_count": 8,
   "metadata": {},
   "outputs": [
    {
     "data": {
      "text/plain": [
       "<matplotlib.image.AxesImage at 0x13918db70>"
      ]
     },
     "execution_count": 8,
     "metadata": {},
     "output_type": "execute_result"
    },
    {
     "data": {
      "image/png": "[encoded data removed]",
      "text/plain": [
       "<Figure size 432x288 with 1 Axes>"
      ]
     },
     "metadata": {
      "needs_background": "light"
     },
     "output_type": "display_data"
    }
   ],
   "source": [
    "# print a grayscale image\n",
    "npimg = np.array(trainset[0][0])\n",
    "gray = cv2.cvtColor(npimg,cv2.COLOR_BGR2GRAY)\n",
    "plt.imshow(gray, cmap='gray')"
   ]
  },
  {
   "cell_type": "code",
   "execution_count": 9,
   "metadata": {},
   "outputs": [],
   "source": [
    "np.save('./SVM/trftr.npy', trftr)\n",
    "np.save('./SVM/trlb.npy', trlb)"
   ]
  },
  {
   "cell_type": "code",
   "execution_count": 10,
   "metadata": {},
   "outputs": [],
   "source": [
    "# preprocess images from testing set\n",
    "tsftr = np.zeros((len(testset), 128))\n",
    "tslb = np.zeros((len(testset),1), dtype=np.int)\n",
    "for i in range(len(testset)):\n",
    "    npimg = np.array(testset[i][0])\n",
    "    gray= cv2.cvtColor(npimg,cv2.COLOR_BGR2GRAY)\n",
    "    _, dec = dsift(gray, size=8, step=8)\n",
    "    tsftr[i] = dec\n",
    "    tslb[i, 0] = testset[i][1]"
   ]
  },
  {
   "cell_type": "code",
   "execution_count": 11,
   "metadata": {},
   "outputs": [],
   "source": [
    "np.save('./SVM/tsftr.npy', tsftr)\n",
    "np.save('./SVM/tslb.npy', tslb)"
   ]
  },
  {
   "cell_type": "markdown",
   "metadata": {},
   "source": [
    "# 3. Preprocess images: normalization + PCA\n",
    "# 4. Classify images with SVM "
   ]
  },
  {
   "cell_type": "code",
   "execution_count": 12,
   "metadata": {},
   "outputs": [],
   "source": [
    "from sklearn.preprocessing import StandardScaler\n",
    "from sklearn.decomposition import PCA\n",
    "from sklearn.svm import SVC  \n",
    "import pickle\n",
    "from sklearn.metrics import accuracy_score\n",
    "from sklearn.metrics import confusion_matrix"
   ]
  },
  {
   "cell_type": "code",
   "execution_count": 12,
   "metadata": {
    "scrolled": true
   },
   "outputs": [
    {
     "name": "stderr",
     "output_type": "stream",
     "text": [
      "/Users/jianyuandeng/miniconda3/lib/python3.6/site-packages/sklearn/svm/base.py:196: FutureWarning: The default value of gamma will change from 'auto' to 'scale' in version 0.22 to account better for unscaled features. Set gamma explicitly to 'auto' or 'scale' to avoid this warning.\n",
      "  \"avoid this warning.\", FutureWarning)\n",
      "/Users/jianyuandeng/miniconda3/lib/python3.6/site-packages/sklearn/svm/base.py:196: FutureWarning: The default value of gamma will change from 'auto' to 'scale' in version 0.22 to account better for unscaled features. Set gamma explicitly to 'auto' or 'scale' to avoid this warning.\n",
      "  \"avoid this warning.\", FutureWarning)\n",
      "/Users/jianyuandeng/miniconda3/lib/python3.6/site-packages/sklearn/svm/base.py:196: FutureWarning: The default value of gamma will change from 'auto' to 'scale' in version 0.22 to account better for unscaled features. Set gamma explicitly to 'auto' or 'scale' to avoid this warning.\n",
      "  \"avoid this warning.\", FutureWarning)\n",
      "/Users/jianyuandeng/miniconda3/lib/python3.6/site-packages/sklearn/svm/base.py:196: FutureWarning: The default value of gamma will change from 'auto' to 'scale' in version 0.22 to account better for unscaled features. Set gamma explicitly to 'auto' or 'scale' to avoid this warning.\n",
      "  \"avoid this warning.\", FutureWarning)\n",
      "/Users/jianyuandeng/miniconda3/lib/python3.6/site-packages/sklearn/svm/base.py:196: FutureWarning: The default value of gamma will change from 'auto' to 'scale' in version 0.22 to account better for unscaled features. Set gamma explicitly to 'auto' or 'scale' to avoid this warning.\n",
      "  \"avoid this warning.\", FutureWarning)\n",
      "/Users/jianyuandeng/miniconda3/lib/python3.6/site-packages/sklearn/svm/base.py:196: FutureWarning: The default value of gamma will change from 'auto' to 'scale' in version 0.22 to account better for unscaled features. Set gamma explicitly to 'auto' or 'scale' to avoid this warning.\n",
      "  \"avoid this warning.\", FutureWarning)\n",
      "/Users/jianyuandeng/miniconda3/lib/python3.6/site-packages/sklearn/svm/base.py:196: FutureWarning: The default value of gamma will change from 'auto' to 'scale' in version 0.22 to account better for unscaled features. Set gamma explicitly to 'auto' or 'scale' to avoid this warning.\n",
      "  \"avoid this warning.\", FutureWarning)\n",
      "/Users/jianyuandeng/miniconda3/lib/python3.6/site-packages/sklearn/svm/base.py:196: FutureWarning: The default value of gamma will change from 'auto' to 'scale' in version 0.22 to account better for unscaled features. Set gamma explicitly to 'auto' or 'scale' to avoid this warning.\n",
      "  \"avoid this warning.\", FutureWarning)\n",
      "/Users/jianyuandeng/miniconda3/lib/python3.6/site-packages/sklearn/svm/base.py:196: FutureWarning: The default value of gamma will change from 'auto' to 'scale' in version 0.22 to account better for unscaled features. Set gamma explicitly to 'auto' or 'scale' to avoid this warning.\n",
      "  \"avoid this warning.\", FutureWarning)\n",
      "/Users/jianyuandeng/miniconda3/lib/python3.6/site-packages/sklearn/svm/base.py:196: FutureWarning: The default value of gamma will change from 'auto' to 'scale' in version 0.22 to account better for unscaled features. Set gamma explicitly to 'auto' or 'scale' to avoid this warning.\n",
      "  \"avoid this warning.\", FutureWarning)\n",
      "/Users/jianyuandeng/miniconda3/lib/python3.6/site-packages/sklearn/svm/base.py:196: FutureWarning: The default value of gamma will change from 'auto' to 'scale' in version 0.22 to account better for unscaled features. Set gamma explicitly to 'auto' or 'scale' to avoid this warning.\n",
      "  \"avoid this warning.\", FutureWarning)\n",
      "/Users/jianyuandeng/miniconda3/lib/python3.6/site-packages/sklearn/svm/base.py:196: FutureWarning: The default value of gamma will change from 'auto' to 'scale' in version 0.22 to account better for unscaled features. Set gamma explicitly to 'auto' or 'scale' to avoid this warning.\n",
      "  \"avoid this warning.\", FutureWarning)\n",
      "/Users/jianyuandeng/miniconda3/lib/python3.6/site-packages/sklearn/svm/base.py:196: FutureWarning: The default value of gamma will change from 'auto' to 'scale' in version 0.22 to account better for unscaled features. Set gamma explicitly to 'auto' or 'scale' to avoid this warning.\n",
      "  \"avoid this warning.\", FutureWarning)\n",
      "/Users/jianyuandeng/miniconda3/lib/python3.6/site-packages/sklearn/svm/base.py:196: FutureWarning: The default value of gamma will change from 'auto' to 'scale' in version 0.22 to account better for unscaled features. Set gamma explicitly to 'auto' or 'scale' to avoid this warning.\n",
      "  \"avoid this warning.\", FutureWarning)\n",
      "/Users/jianyuandeng/miniconda3/lib/python3.6/site-packages/sklearn/svm/base.py:196: FutureWarning: The default value of gamma will change from 'auto' to 'scale' in version 0.22 to account better for unscaled features. Set gamma explicitly to 'auto' or 'scale' to avoid this warning.\n",
      "  \"avoid this warning.\", FutureWarning)\n",
      "/Users/jianyuandeng/miniconda3/lib/python3.6/site-packages/sklearn/svm/base.py:196: FutureWarning: The default value of gamma will change from 'auto' to 'scale' in version 0.22 to account better for unscaled features. Set gamma explicitly to 'auto' or 'scale' to avoid this warning.\n",
      "  \"avoid this warning.\", FutureWarning)\n",
      "/Users/jianyuandeng/miniconda3/lib/python3.6/site-packages/sklearn/svm/base.py:196: FutureWarning: The default value of gamma will change from 'auto' to 'scale' in version 0.22 to account better for unscaled features. Set gamma explicitly to 'auto' or 'scale' to avoid this warning.\n",
      "  \"avoid this warning.\", FutureWarning)\n",
      "/Users/jianyuandeng/miniconda3/lib/python3.6/site-packages/sklearn/svm/base.py:196: FutureWarning: The default value of gamma will change from 'auto' to 'scale' in version 0.22 to account better for unscaled features. Set gamma explicitly to 'auto' or 'scale' to avoid this warning.\n",
      "  \"avoid this warning.\", FutureWarning)\n"
     ]
    }
   ],
   "source": [
    "accuracyList = []\n",
    "class_accuracyList = []\n",
    "NUMPCA = [2, 4, 8, 16, 32, 64, 128]\n",
    "KERNELType = ['linear', 'poly','rbf','sigmoid']\n",
    "\n",
    "for i in range(len(NUMPCA)):\n",
    "    for j in range(len(KERNELType)):\n",
    "        numPCA = NUMPCA[i]\n",
    "        kernelType = KERNELType[j]\n",
    "\n",
    "        # load training and test dataset\n",
    "        trftr = np.load('./SVM/trftr.npy')\n",
    "        trlb = np.load('./SVM/trlb.npy')\n",
    "        tsftr = np.load('./SVM/tsftr.npy')\n",
    "        tslb = np.load('./SVM/tslb.npy')\n",
    "\n",
    "        # standardizing the features (mean = 0 and variance = 1)\n",
    "        strftr = StandardScaler().fit_transform(trftr)\n",
    "        stsftr = StandardScaler().fit_transform(tsftr)\n",
    "\n",
    "        # identify principal components\n",
    "        pca = PCA(n_components = numPCA)\n",
    "        trPCs = pca.fit_transform(strftr)\n",
    "        tsPCs = pca.fit_transform(stsftr)\n",
    "\n",
    "        # use SVM to do image classification\n",
    "        svclassifier = SVC(kernel = kernelType)  \n",
    "        svclassifier.fit(trPCs, trlb[:,0]) \n",
    "\n",
    "#     !!! The saving-classifiers part is commented to avoid override of the existing classifiers  \n",
    "#         # save the SVM classifier\n",
    "#         filename = './SVM/'+str(numPCA)+'_'+kernelType+'_'+'SVM.sav'\n",
    "#         pickle.dump(svclassifier, open(filename, 'wb'))\n",
    "\n",
    "        # make predictions\n",
    "        lb_pred = svclassifier.predict(tsPCs)\n",
    "        \n",
    "        # generate confusion matrix\n",
    "        cm = confusion_matrix(tslb, lb_pred)\n",
    "        \n",
    "        # calculate accuracy\n",
    "        accuracy = accuracy_score(tslb, lb_pred)\n",
    "        accuracyList.append(accuracy)\n",
    "        class_accuracy = 100 * cm.diagonal() / 1000\n",
    "        class_accuracyList.append(class_accuracy)\n",
    "\n",
    "# !!! The writing-to-file part is commented to avoid override of the existing output \n",
    "# # write output\n",
    "# np.savetxt(\"./SVM/accuracyList.csv\",accuracyList, delimiter=\",\", fmt='%s')\n",
    "# np.savetxt(\"./SVM/class_accuracyList.csv\",class_accuracyList, delimiter=\",\", fmt='%s')"
   ]
  },
  {
   "cell_type": "markdown",
   "metadata": {},
   "source": [
    "# 5. Pick a SVM classifier and plot the confusion matrix"
   ]
  },
  {
   "cell_type": "code",
   "execution_count": 13,
   "metadata": {},
   "outputs": [],
   "source": [
    "import seaborn as sn"
   ]
  },
  {
   "cell_type": "code",
   "execution_count": 14,
   "metadata": {},
   "outputs": [],
   "source": [
    "NUMPCA = [4]\n",
    "KERNELType = ['rbf']\n",
    "\n",
    "for i in range(len(NUMPCA)):\n",
    "    for j in range(len(KERNELType)):\n",
    "        numPCA = NUMPCA[i]\n",
    "        kernelType = KERNELType[j]\n",
    "        \n",
    "        # load classifier\n",
    "        filename = './SVM/'+str(numPCA)+'_'+kernelType+'_'+'SVM.sav'\n",
    "        svclassifier = pickle.load(open(filename, 'rb'))\n",
    "\n",
    "        # load training and test dataset\n",
    "        trftr = np.load('./SVM/trftr.npy')\n",
    "        trlb = np.load('./SVM/trlb.npy')\n",
    "        tsftr = np.load('./SVM/tsftr.npy')\n",
    "        tslb = np.load('./SVM/tslb.npy')\n",
    "\n",
    "        # standardizing the features (mean = 0 and variance = 1)\n",
    "        strftr = StandardScaler().fit_transform(trftr)\n",
    "        stsftr = StandardScaler().fit_transform(tsftr)\n",
    "\n",
    "        # identify principal components\n",
    "        pca = PCA(n_components = numPCA)\n",
    "        trPCs = pca.fit_transform(strftr)\n",
    "        tsPCs = pca.fit_transform(stsftr)\n",
    "\n",
    "        # make predictions\n",
    "        lb_pred = svclassifier.predict(tsPCs)\n",
    "\n",
    "        # generate confusion matrix\n",
    "        cm = confusion_matrix(tslb, lb_pred)\n"
   ]
  },
  {
   "cell_type": "code",
   "execution_count": 20,
   "metadata": {},
   "outputs": [],
   "source": [
    "# save an unormalized features vector\n",
    "np.savetxt(\"./SVM/rawFeature.csv\",trftr[0], delimiter=\",\", fmt='%s') \n",
    "# save a normalized features vector\n",
    "np.savetxt(\"./SVM/normFeature.csv\",strftr[0], delimiter=\",\", fmt='%s') "
   ]
  },
  {
   "cell_type": "code",
   "execution_count": 17,
   "metadata": {},
   "outputs": [
    {
     "data": {
      "text/plain": [
       "<matplotlib.axes._subplots.AxesSubplot at 0x1a409fc438>"
      ]
     },
     "execution_count": 17,
     "metadata": {},
     "output_type": "execute_result"
    },
    {
     "data": {
      "image/png": "[encoded data removed]",
      "text/plain": [
       "<Figure size 720x720 with 2 Axes>"
      ]
     },
     "metadata": {
      "needs_background": "light"
     },
     "output_type": "display_data"
    }
   ],
   "source": [
    "plt.figure(figsize = (10,10))\n",
    "sn.set(font_scale=1)\n",
    "sn.heatmap(100*cm/1000, cmap=\"YlGnBu\", annot = True)"
   ]
  },
  {
   "cell_type": "code",
   "execution_count": null,
   "metadata": {},
   "outputs": [],
   "source": []
  }
 ],
 "metadata": {
  "kernelspec": {
   "display_name": "Python 3",
   "language": "python",
   "name": "python3"
  },
  "language_info": {
   "codemirror_mode": {
    "name": "ipython",
    "version": 3
   },
   "file_extension": ".py",
   "mimetype": "text/x-python",
   "name": "python",
   "nbconvert_exporter": "python",
   "pygments_lexer": "ipython3",
   "version": "3.7.6"
  }
 },
 "nbformat": 4,
 "nbformat_minor": 2
}
